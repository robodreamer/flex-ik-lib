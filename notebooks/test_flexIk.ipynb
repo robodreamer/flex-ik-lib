{
 "cells": [
  {
   "cell_type": "code",
   "execution_count": 12,
   "id": "0195863a",
   "metadata": {},
   "outputs": [],
   "source": [
    "import numpy as np\n",
    "from flexIk import velIk as velIk\n",
    "from flexIk import inv as inv\n",
    "from flexIk import invTypes as invTypes"
   ]
  },
  {
   "cell_type": "code",
   "execution_count": 13,
   "id": "9533bbf7",
   "metadata": {},
   "outputs": [
    {
     "name": "stdout",
     "output_type": "stream",
     "text": [
      "[[0.71288884 0.62675643 0.5189982 ]\n",
      " [0.85060551 0.91213769 0.18264886]]\n"
     ]
    }
   ],
   "source": [
    "# Generate a random 2x3 matrix with values between 0 and 1\n",
    "matrix = np.random.rand(2, 3)\n",
    "print(matrix)"
   ]
  },
  {
   "cell_type": "code",
   "execution_count": 11,
   "id": "bbb63440",
   "metadata": {},
   "outputs": [
    {
     "ename": "NameError",
     "evalue": "name 'flexIk' is not defined",
     "output_type": "error",
     "traceback": [
      "\u001b[0;31m---------------------------------------------------------------------------\u001b[0m",
      "\u001b[0;31mNameError\u001b[0m                                 Traceback (most recent call last)",
      "Cell \u001b[0;32mIn[11], line 1\u001b[0m\n\u001b[0;32m----> 1\u001b[0m \u001b[38;5;28mdir\u001b[39m(\u001b[43mflexIk\u001b[49m)\n",
      "\u001b[0;31mNameError\u001b[0m: name 'flexIk' is not defined"
     ]
    }
   ],
   "source": []
  },
  {
   "cell_type": "code",
   "execution_count": 15,
   "id": "e247c7a1",
   "metadata": {},
   "outputs": [
    {
     "name": "stdout",
     "output_type": "stream",
     "text": [
      "[[ 0.20878784  0.36808554]\n",
      " [-0.68994199  1.12679233]\n",
      " [ 2.47319367 -1.86634253]]\n",
      "[[ 0.20878784  0.36808554]\n",
      " [-0.68994189  1.12679224]\n",
      " [ 2.47319341 -1.86634231]]\n",
      "[[ 0.20878784  0.36808554]\n",
      " [-0.68994199  1.12679233]\n",
      " [ 2.47319367 -1.86634253]]\n"
     ]
    }
   ],
   "source": [
    "# get the inverses from each method and compare the outputs\n",
    "inv1 = inv(matrix, invTypes.PINV)\n",
    "inv2 = inv(matrix, invTypes.DLS)\n",
    "inv3 = inv(matrix, invTypes.SRINV)\n",
    "print(inv1)\n",
    "print(inv2)\n",
    "print(inv3)"
   ]
  },
  {
   "cell_type": "code",
   "execution_count": null,
   "id": "761c0fba",
   "metadata": {},
   "outputs": [],
   "source": []
  }
 ],
 "metadata": {
  "kernelspec": {
   "display_name": "Python 3 (ipykernel)",
   "language": "python",
   "name": "python3"
  },
  "language_info": {
   "codemirror_mode": {
    "name": "ipython",
    "version": 3
   },
   "file_extension": ".py",
   "mimetype": "text/x-python",
   "name": "python",
   "nbconvert_exporter": "python",
   "pygments_lexer": "ipython3",
   "version": "3.10.6"
  },
  "varInspector": {
   "cols": {
    "lenName": 16,
    "lenType": 16,
    "lenVar": 40
   },
   "kernels_config": {
    "python": {
     "delete_cmd_postfix": "",
     "delete_cmd_prefix": "del ",
     "library": "var_list.py",
     "varRefreshCmd": "print(var_dic_list())"
    },
    "r": {
     "delete_cmd_postfix": ") ",
     "delete_cmd_prefix": "rm(",
     "library": "var_list.r",
     "varRefreshCmd": "cat(var_dic_list()) "
    }
   },
   "types_to_exclude": [
    "module",
    "function",
    "builtin_function_or_method",
    "instance",
    "_Feature"
   ],
   "window_display": false
  }
 },
 "nbformat": 4,
 "nbformat_minor": 5
}
