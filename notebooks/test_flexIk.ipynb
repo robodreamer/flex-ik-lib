{
 "cells": [
  {
   "cell_type": "code",
   "execution_count": 12,
   "id": "51ec2be6",
   "metadata": {},
   "outputs": [],
   "source": [
    "import numpy as np\n",
    "from flexIk import velIk as velIk\n",
    "from flexIk import inv as inv\n",
    "from flexIk import invTypes as invTypes"
   ]
  },
  {
   "cell_type": "code",
   "execution_count": 13,
   "id": "7aa8f536",
   "metadata": {},
   "outputs": [
    {
     "name": "stdout",
     "output_type": "stream",
     "text": [
      "[[0.71288884 0.62675643 0.5189982 ]\n",
      " [0.85060551 0.91213769 0.18264886]]\n"
     ]
    }
   ],
   "source": [
    "# Generate a random 2x3 matrix with values between 0 and 1\n",
    "matrix = np.random.rand(2, 3)\n",
    "print(matrix)"
   ]
  },
  {
   "cell_type": "code",
   "execution_count": 15,
   "id": "279f412e",
   "metadata": {},
   "outputs": [
    {
     "name": "stdout",
     "output_type": "stream",
     "text": [
      "[[ 0.20878784  0.36808554]\n",
      " [-0.68994199  1.12679233]\n",
      " [ 2.47319367 -1.86634253]]\n",
      "[[ 0.20878784  0.36808554]\n",
      " [-0.68994189  1.12679224]\n",
      " [ 2.47319341 -1.86634231]]\n",
      "[[ 0.20878784  0.36808554]\n",
      " [-0.68994199  1.12679233]\n",
      " [ 2.47319367 -1.86634253]]\n"
     ]
    }
   ],
   "source": [
    "# get the inverses from each method and compare the outputs\n",
    "inv1 = inv(matrix, invTypes.PINV)\n",
    "inv2 = inv(matrix, invTypes.DLS)\n",
    "inv3 = inv(matrix, invTypes.SRINV)\n",
    "print(inv1)\n",
    "print(inv2)\n",
    "print(inv3)"
   ]
  },
  {
   "cell_type": "code",
   "execution_count": 16,
   "id": "d7c24cc3",
   "metadata": {},
   "outputs": [
    {
     "name": "stdout",
     "output_type": "stream",
     "text": [
      "[ 0.25916949  0.3409     -0.1339      0.16555664  0.78266485 -0.1649\n",
      "  0.51263013]\n",
      "[1.]\n"
     ]
    }
   ],
   "source": [
    "# a test example 1\n",
    "dqLow = np.array([-1.0103, -0.8920, -0.1339, -0.2942, -0.3012, -0.1649, -0.5868])\n",
    "dqUpp = np.array([0.4284, 0.3409, 0.8095, 0.7777, 0.8616, 0.4395, 1.0497])\n",
    "\n",
    "dxGoal = np.matrix([-2.4444])\n",
    "J = np.matrix([-0.4222, -1.8365, 1.0291, -0.2697, -1.2750, 0.6093, -0.8351])\n",
    "\n",
    "C = np.eye(7)\n",
    "\n",
    "dxGoalData = [dxGoal]\n",
    "JData = [J]\n",
    "\n",
    "dq, sData, exitCode = velIk(C, dqLow, dqUpp, dxGoalData, JData)\n",
    "\n",
    "print(dq.transpose())\n",
    "print(sData)"
   ]
  },
  {
   "cell_type": "code",
   "execution_count": 18,
   "id": "23cf4391",
   "metadata": {},
   "outputs": [
    {
     "name": "stdout",
     "output_type": "stream",
     "text": [
      "[0.42310313 0.54471296 0.2229     0.1097     0.6249646  0.44551505\n",
      " 1.0589153 ]\n",
      "[0.9982134]\n"
     ]
    }
   ],
   "source": [
    "# a test example 2\n",
    "dqLow = np.array([-0.2219, -0.8426, -0.2623, -0.9867, -0.8986, -0.7017, -0.8321])\n",
    "dqUpp = np.array([0.4243, 0.5456, 0.2229, 0.1097, 0.6263, 0.4464, 1.0609])\n",
    "\n",
    "dxGoal = np.matrix([-0.2684, 1.7619, 0.8914, 0.3309, 0.9741, 0.3486]).reshape(-1,1)\n",
    "J = np.matrix([[-1.1006, 0.4406, -0.1178, -2.0108, 0.8874, -0.1945, -0.2487],\n",
    "                   [0.3025, -0.6387, 0.3752, 1.4583, 0.6051, 1.2198, 0.7682],\n",
    "                   [-0.3512, 0.7398, -0.2975, 0.4974, 0.9426, 0.3072, -0.0744],\n",
    "                   [0.9677, 1.4896, 0.0837, 1.0651, -0.1419, 0.9940, -1.3034],\n",
    "                   [-0.0786, 1.8665, -0.0553, -1.3375, 0.2977, -0.1946, 0.0459],\n",
    "                   [0.3862, 1.2667, -0.5599, 1.6852, 0.4540, -0.1922, -0.7211]])\n",
    "\n",
    "C = np.eye(7)\n",
    "\n",
    "dxGoalData = [dxGoal]\n",
    "JData = [J]\n",
    "\n",
    "dq, sData, exitCode = velIk(C, dqLow, dqUpp, dxGoalData, JData)\n",
    "\n",
    "print(dq.transpose())\n",
    "print(sData)"
   ]
  },
  {
   "cell_type": "code",
   "execution_count": 20,
   "id": "df1bb384",
   "metadata": {},
   "outputs": [
    {
     "name": "stdout",
     "output_type": "stream",
     "text": [
      "[-1.04958467  0.35354827 -0.6656      0.09661051 -0.17366559 -0.164\n",
      " -0.7324    ]\n",
      "[0.35571016 0.         0.         0.        ]\n"
     ]
    }
   ],
   "source": [
    "# a test example 3\n",
    "C = np.array([[0.0000, 0, 0, 0, 0, 0, 0],\n",
    "                [0, 1.0000, 0, 0, 0, 0, 0],\n",
    "                [0, 0, 1.0000, 0, 0, 0, 0],\n",
    "                [0, 0, 0, 1.0000, 0, 0, 0],\n",
    "                [0, 0, 0, 0, 1.0000, 0, 0],\n",
    "                [0, 0, 0, 0, 0, 1.0000, 0],\n",
    "                [0, 0, 0, 0, 0, 0, 1.0000],\n",
    "                [2.5831, -1.4589, -2.0462, -0.5019, 0.0258, -1.1471, 0.0909],\n",
    "                [0.4492, -0.0869, 0.6709, -0.3029, -0.9252, -0.2001, -0.5626]])\n",
    "\n",
    "limLow = np.array([-1.0901, -0.2636, -0.6656, -0.1281, -0.2707, -0.1640, -0.7324, -1.9921, -1.8989])\n",
    "limUpp = np.array([0.2368, 0.7959, 0.2604, 0.2006, 0.8430, 0.6154, 0.9774, 1.4382, 1.5937])\n",
    "\n",
    "dxGoal1 = np.array([-0.6256, -4.2560, 1.4834, -7.1243, 1.0170]).reshape(-1,1)\n",
    "dxGoal2 = np.array([0.9389, -1.0420, 1.2743]).reshape(-1,1)\n",
    "dxGoal3 = np.array([-0.6824, -1.2050, 1.0490, -1.6531, -1.0726]).reshape(-1,1)\n",
    "dxGoal4 = np.array([-3.3727, 2.6204, 0.1514, 0.4900, 0.9709]).reshape(-1,1)\n",
    "dxGoalData = [dxGoal1, dxGoal2, dxGoal3, dxGoal4]\n",
    "\n",
    "JData1 = np.array([[ 0.4541,  1.7162,  1.5037, -0.8138, -0.2825, -0.1714, -0.887 ],\n",
    "                   [ 1.0754,  1.4371, -0.3326, -0.4781,  0.6634, -0.0003,  1.3016],\n",
    "                   [-0.6276, -0.2844,  0.9   ,  1.5343, -0.3795,  1.1554, -0.7426],\n",
    "                   [ 0.4554, -0.9754,  1.9622, -1.269 ,  0.9464,  1.4599, -0.1653],\n",
    "                   [ 0.3039,  1.4197, -0.0893,  0.2334,  2.5169,  0.9857, -0.9497]])\n",
    "JData2 = np.array([[ 0.4962,  0.1712, -1.0698, -1.3148,  0.8012, -0.0898,  0.3666],\n",
    "       [ 0.3178, -0.6097,  0.144 , -2.0493, -0.37  , -0.1329,  0.1814],\n",
    "       [ 0.3144, -0.9218, -2.7618,  0.7548,  1.0196, -1.3853,  0.9129]])\n",
    "JData3 = np.array([[1.6132, -0.1794, 0.8694, 1.0935, 0.7685, 0.7062, 0.1641],\n",
    "                   [0.9024, -1.3709, 0.8257, -0.6090, -0.6722, -0.6487, 0.1502],\n",
    "                   [-0.1548, -0.4471, -0.8096, 1.4649, 0.4636, -0.0904, 0.1992],\n",
    "                   [1.8043, -0.0105, 0.3497, -0.5596, -0.0299, 0.0961, 0.6819],\n",
    "                   [-0.1509, -0.6952, -0.2443, -1.6654, 0.0039, -0.4221, -0.9587]])\n",
    "JData4 = np.array([[-0.0838, -1.2514,  0.8942,  0.9348, -1.29  , -1.5779,  0.3657],\n",
    "       [-0.471 , -0.0233, -0.3954,  0.4428,  0.3944,  1.7483,  0.0341],\n",
    "       [-0.1522,  0.5406, -0.2119, -0.0378,  0.4032, -0.504 ,  0.4701],\n",
    "       [ 0.5107, -0.3325,  0.7064, -0.8294,  0.7334, -0.6481,  0.8696],\n",
    "       [ 0.9829,  0.5499,  0.8694,  0.0541,  1.5186, -1.1224,  1.8625]])\n",
    "\n",
    "JData = [JData1, JData2, JData3, JData4]\n",
    "\n",
    "dq, sData, exitCode = velIk(C, limLow, limUpp, dxGoalData, JData)\n",
    "\n",
    "print(dq.transpose())\n",
    "print(sData)"
   ]
  },
  {
   "cell_type": "code",
   "execution_count": null,
   "id": "a7d9c69d",
   "metadata": {},
   "outputs": [],
   "source": []
  }
 ],
 "metadata": {
  "kernelspec": {
   "display_name": "Python 3 (ipykernel)",
   "language": "python",
   "name": "python3"
  },
  "language_info": {
   "codemirror_mode": {
    "name": "ipython",
    "version": 3
   },
   "file_extension": ".py",
   "mimetype": "text/x-python",
   "name": "python",
   "nbconvert_exporter": "python",
   "pygments_lexer": "ipython3",
   "version": "3.10.6"
  },
  "varInspector": {
   "cols": {
    "lenName": 16,
    "lenType": 16,
    "lenVar": 40
   },
   "kernels_config": {
    "python": {
     "delete_cmd_postfix": "",
     "delete_cmd_prefix": "del ",
     "library": "var_list.py",
     "varRefreshCmd": "print(var_dic_list())"
    },
    "r": {
     "delete_cmd_postfix": ") ",
     "delete_cmd_prefix": "rm(",
     "library": "var_list.r",
     "varRefreshCmd": "cat(var_dic_list()) "
    }
   },
   "types_to_exclude": [
    "module",
    "function",
    "builtin_function_or_method",
    "instance",
    "_Feature"
   ],
   "window_display": false
  }
 },
 "nbformat": 4,
 "nbformat_minor": 5
}
